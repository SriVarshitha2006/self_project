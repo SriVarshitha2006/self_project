{
 "cells": [
  {
   "cell_type": "code",
   "execution_count": 1,
   "id": "a017cd69-23a6-43c5-9e10-10ce64179824",
   "metadata": {},
   "outputs": [],
   "source": [
    "import numpy as np\n",
    "import pandas as pd\n",
    "from sklearn.ensemble import RandomForestClassifier\n",
    "from sklearn.svm import SVC\n",
    "from sklearn.feature_extraction.text import TfidfVectorizer\n",
    "from sklearn.metrics import accuracy_score, precision_score, recall_score, f1_score\n",
    "from sklearn.model_selection import train_test_split"
   ]
  },
  {
   "cell_type": "code",
   "execution_count": 2,
   "id": "e07f0c01-a583-46ba-bd00-18021dc5255d",
   "metadata": {},
   "outputs": [],
   "source": [
    "raw_mail_data = pd.read_csv('mail_data.csv')\n",
    "# replace the null values with a null string\n",
    "mail_data = raw_mail_data.where((pd.notnull(raw_mail_data)),'')"
   ]
  },
  {
   "cell_type": "code",
   "execution_count": 4,
   "id": "e03134da-d52d-478d-b59b-e5de3c0e6540",
   "metadata": {},
   "outputs": [],
   "source": [
    "# label spam mail as 0;  ham mail as 1;\n",
    "\n",
    "mail_data.loc[mail_data['Category'] == 'spam', 'Category',] = 0\n",
    "mail_data.loc[mail_data['Category'] == 'ham', 'Category',] = 1"
   ]
  },
  {
   "cell_type": "code",
   "execution_count": 5,
   "id": "a9a2d152-ff00-4a6a-95aa-fbbc8f0e03d9",
   "metadata": {},
   "outputs": [],
   "source": [
    "# separating the data as texts and label\n",
    "\n",
    "X = mail_data['Message']\n",
    "\n",
    "Y = mail_data['Category']"
   ]
  },
  {
   "cell_type": "code",
   "execution_count": 6,
   "id": "7fccc092-1f60-4a7f-96dc-eac89aa70613",
   "metadata": {},
   "outputs": [],
   "source": [
    "X_train, X_test, Y_train, Y_test = train_test_split(X, Y, test_size=0.2, random_state=3)"
   ]
  },
  {
   "cell_type": "code",
   "execution_count": 7,
   "id": "e3ac9464-37ab-4cf2-a7b9-0bccdf1ae5cf",
   "metadata": {},
   "outputs": [],
   "source": [
    "from sklearn.feature_extraction.text import TfidfVectorizer\n",
    "\n",
    "feature_extraction = TfidfVectorizer(min_df=1, stop_words='english', lowercase=True)\n",
    "\n",
    "X_train_features = feature_extraction.fit_transform(X_train)\n",
    "X_test_features = feature_extraction.transform(X_test)\n",
    "\n",
    "# Convert Y_train and Y_test values to integers\n",
    "Y_train = Y_train.astype('int')\n",
    "Y_test = Y_test.astype('int')"
   ]
  },
  {
   "cell_type": "code",
   "execution_count": 8,
   "id": "edbc6997-0730-4512-8d3c-8f7c8395ff79",
   "metadata": {},
   "outputs": [],
   "source": [
    "# Initialize the Random Forest classifier\n",
    "rf_classifier = RandomForestClassifier(n_estimators=100, random_state=42)\n",
    "\n",
    "# Train the Random Forest classifier\n",
    "rf_classifier.fit(X_train_features, Y_train)\n",
    "\n",
    "# Make predictions with the Random Forest classifier\n",
    "Y_pred_rf = rf_classifier.predict(X_test_features)"
   ]
  },
  {
   "cell_type": "code",
   "execution_count": 9,
   "id": "f17dfa64-2022-4207-ae50-ab302ea457f4",
   "metadata": {},
   "outputs": [],
   "source": [
    "# Initialize the SVM classifier\n",
    "svm_classifier = SVC(kernel='linear', random_state=42)\n",
    "\n",
    "# Train the SVM classifier\n",
    "svm_classifier.fit(X_train_features, Y_train)\n",
    "\n",
    "# Make predictions with the SVM classifier\n",
    "Y_pred_svm = svm_classifier.predict(X_test_features)"
   ]
  },
  {
   "cell_type": "code",
   "execution_count": 10,
   "id": "26692c71-108f-404d-adb5-c046f63fa3e0",
   "metadata": {},
   "outputs": [
    {
     "name": "stdout",
     "output_type": "stream",
     "text": [
      "Random Forest Classifier:\n",
      "Accuracy: 0.9767\n",
      "Precision: 0.9736\n",
      "Recall: 1.0000\n",
      "F1-Score: 0.9866\n"
     ]
    }
   ],
   "source": [
    "# Evaluate the Random Forest model\n",
    "accuracy_rf = accuracy_score(Y_test, Y_pred_rf)\n",
    "precision_rf = precision_score(Y_test, Y_pred_rf)\n",
    "recall_rf = recall_score(Y_test, Y_pred_rf)\n",
    "f1_rf = f1_score(Y_test, Y_pred_rf)\n",
    "\n",
    "print(\"Random Forest Classifier:\")\n",
    "print(f\"Accuracy: {accuracy_rf:.4f}\")\n",
    "print(f\"Precision: {precision_rf:.4f}\")\n",
    "print(f\"Recall: {recall_rf:.4f}\")\n",
    "print(f\"F1-Score: {f1_rf:.4f}\")"
   ]
  },
  {
   "cell_type": "code",
   "execution_count": 11,
   "id": "b33fde90-7ca0-4c59-bb09-f3f634437e17",
   "metadata": {},
   "outputs": [
    {
     "name": "stdout",
     "output_type": "stream",
     "text": [
      "\n",
      "SVM Classifier:\n",
      "Accuracy: 0.9821\n",
      "Precision: 0.9806\n",
      "Recall: 0.9990\n",
      "F1-Score: 0.9897\n"
     ]
    }
   ],
   "source": [
    "# Evaluate the SVM model\n",
    "accuracy_svm = accuracy_score(Y_test, Y_pred_svm)\n",
    "precision_svm = precision_score(Y_test, Y_pred_svm)\n",
    "recall_svm = recall_score(Y_test, Y_pred_svm)\n",
    "f1_svm = f1_score(Y_test, Y_pred_svm)\n",
    "\n",
    "print(\"\\nSVM Classifier:\")\n",
    "print(f\"Accuracy: {accuracy_svm:.4f}\")\n",
    "print(f\"Precision: {precision_svm:.4f}\")\n",
    "print(f\"Recall: {recall_svm:.4f}\")\n",
    "print(f\"F1-Score: {f1_svm:.4f}\")"
   ]
  },
  {
   "cell_type": "code",
   "execution_count": 12,
   "id": "ffddd805-5b67-4f59-a9ca-70491fefece7",
   "metadata": {},
   "outputs": [
    {
     "name": "stdout",
     "output_type": "stream",
     "text": [
      "[1]\n",
      "Ham mail\n"
     ]
    }
   ],
   "source": [
    "#example using rf_classifier model\n",
    "input_mail = [\"I've been searching for the right words to thank you for this breather. I promise i wont take your help for granted and will fulfil my promise. You have been wonderful and a blessing at all times\"]\n",
    "\n",
    "# convert text to feature vectors\n",
    "input_data_features = feature_extraction.transform(input_mail)\n",
    "\n",
    "# making prediction\n",
    "\n",
    "prediction = rf_classifier.predict(input_data_features)\n",
    "print(prediction)\n",
    "\n",
    "\n",
    "if (prediction[0]==1):\n",
    "  print('Ham mail')\n",
    "\n",
    "else:\n",
    "  print('Spam mail')"
   ]
  },
  {
   "cell_type": "code",
   "execution_count": 13,
   "id": "04242024-57c2-4a86-bff8-8c159aafb41c",
   "metadata": {},
   "outputs": [
    {
     "name": "stdout",
     "output_type": "stream",
     "text": [
      "[1]\n",
      "Ham mail\n"
     ]
    }
   ],
   "source": [
    "#example using svm model\n",
    "input_mail = [\"I've been searching for the right words to thank you for this breather. I promise i wont take your help for granted and will fulfil my promise. You have been wonderful and a blessing at all times\"]\n",
    "\n",
    "# convert text to feature vectors\n",
    "input_data_features = feature_extraction.transform(input_mail)\n",
    "\n",
    "# making prediction\n",
    "\n",
    "prediction = svm_classifier.predict(input_data_features)\n",
    "print(prediction)\n",
    "\n",
    "\n",
    "if (prediction[0]==1):\n",
    "  print('Ham mail')\n",
    "\n",
    "else:\n",
    "  print('Spam mail')"
   ]
  },
  {
   "cell_type": "code",
   "execution_count": null,
   "id": "3b7ba191-b8b0-471d-9bc6-7c058d580af5",
   "metadata": {},
   "outputs": [],
   "source": []
  }
 ],
 "metadata": {
  "kernelspec": {
   "display_name": "Python 3 (ipykernel)",
   "language": "python",
   "name": "python3"
  },
  "language_info": {
   "codemirror_mode": {
    "name": "ipython",
    "version": 3
   },
   "file_extension": ".py",
   "mimetype": "text/x-python",
   "name": "python",
   "nbconvert_exporter": "python",
   "pygments_lexer": "ipython3",
   "version": "3.12.1"
  }
 },
 "nbformat": 4,
 "nbformat_minor": 5
}
